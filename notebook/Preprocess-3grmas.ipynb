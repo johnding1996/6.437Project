{
 "cells": [
  {
   "cell_type": "code",
   "execution_count": 1,
   "metadata": {},
   "outputs": [
    {
     "name": "stdout",
     "output_type": "stream",
     "text": [
      "17576\n"
     ]
    }
   ],
   "source": [
    "import numpy as np\n",
    "import string\n",
    "\n",
    "def _read_csv(data_dir, file_name):\n",
    "    import csv\n",
    "    with open(data_dir + '/' + file_name + '.csv', 'r') as csvfile:\n",
    "        reader = csv.reader(csvfile, delimiter=',')\n",
    "        first_row = True\n",
    "        code = []\n",
    "        freq = []\n",
    "        for row in reader:\n",
    "            if first_row:\n",
    "                first_row = False\n",
    "                continue\n",
    "            code.append(row[0].lower())\n",
    "            freq.append(int(row[1]))\n",
    "    return code, np.array(freq)\n",
    "    \n",
    "code, freq = _read_csv('../data/part1-data', 'ngrams3')\n",
    "\n",
    "d = dict(zip(code, freq))\n",
    "\n",
    "for l1 in string.ascii_lowercase:\n",
    "    for l2 in string.ascii_lowercase:\n",
    "        for l3 in string.ascii_lowercase:\n",
    "            if l1+l2+l3 not in d:\n",
    "                d[l1+l2+l3] = 10000\n",
    "                \n",
    "print(len(d))"
   ]
  },
  {
   "cell_type": "code",
   "execution_count": 2,
   "metadata": {},
   "outputs": [],
   "source": [
    "p3 = np.zeros((28,28,28))\n",
    "\n",
    "for i1, l1 in enumerate(string.ascii_lowercase):\n",
    "    for i2, l2 in enumerate(string.ascii_lowercase):\n",
    "        for i3, l3 in enumerate(string.ascii_lowercase):\n",
    "            p3[i1, i2, i3] = d[l1+l2+l3]\n",
    "            \n",
    "#print(np.sum(p3))"
   ]
  },
  {
   "cell_type": "code",
   "execution_count": 3,
   "metadata": {},
   "outputs": [],
   "source": [
    "#p3 = p3.astype(np.float64) / np.sum(p3)\n",
    "#p3[p3 == 0] = 1\n",
    "#lp3 = np.log(p3)\n",
    "#np.save('../data/ngrams/lp3.npy',p3)"
   ]
  },
  {
   "cell_type": "code",
   "execution_count": 4,
   "metadata": {},
   "outputs": [
    {
     "data": {
      "text/plain": [
       "<Figure size 640x480 with 2 Axes>"
      ]
     },
     "metadata": {},
     "output_type": "display_data"
    },
    {
     "data": {
      "text/plain": [
       "<Figure size 640x480 with 2 Axes>"
      ]
     },
     "metadata": {},
     "output_type": "display_data"
    }
   ],
   "source": [
    "def _read_text(data_dir, file_name):\n",
    "    with open(data_dir + '/' + file_name + '.txt', 'r') as textfile:\n",
    "        return textfile.readlines()\n",
    "    \n",
    "    \n",
    "def _read_csv(data_dir, file_name):\n",
    "    import csv\n",
    "    with open(data_dir + '/' + file_name + '.csv', 'r') as csvfile:\n",
    "        reader = csv.reader(csvfile, delimiter=',')\n",
    "        return list(reader)\n",
    "alphabet = _read_csv('../data/part1-data', 'alphabet')[0]\n",
    "\n",
    "def _translate(text):\n",
    "    dictionary = dict(zip(alphabet, range(len(alphabet))))\n",
    "    return np.array([dictionary[t] for t in text])\n",
    "  \n",
    "pt1 = _read_text('../data/part1-data', 'plaintext')[0]\n",
    "pt2 = _read_text('../data/part2-data', 'plaintext_feynman')[0]\n",
    "pt3 = _read_text('../data/part2-data', 'plaintext_paradiselost')[0]\n",
    "pt4 = _read_text('../data/part2-data', 'plaintext_warandpeace')[0]\n",
    "pc = _translate(pt1 + pt2 + pt3 + pt4)\n",
    "\n",
    "\n",
    "emp3 = np.zeros((28,28,28))\n",
    "\n",
    "np.add.at(emp3, (pc[:-2], pc[1:-1], pc[2:]), 1)\n",
    "\n",
    "import seaborn as sns\n",
    "import matplotlib.pyplot as plt\n",
    "\n",
    "sns.heatmap(p3[0,])\n",
    "plt.show()\n",
    "sns.heatmap(emp3[0,])\n",
    "plt.show()"
   ]
  },
  {
   "cell_type": "code",
   "execution_count": 5,
   "metadata": {},
   "outputs": [
    {
     "name": "stdout",
     "output_type": "stream",
     "text": [
      "60490.0 2098210386991.0\n"
     ]
    },
    {
     "data": {
      "image/png": "[encoded data removed]",
      "text/plain": [
       "<Figure size 432x288 with 2 Axes>"
      ]
     },
     "metadata": {},
     "output_type": "display_data"
    }
   ],
   "source": [
    "print(np.sum(emp3[:26,:26,:26]), np.sum(p3))\n",
    "emp3 = emp3 / np.sum(emp3[:26,:26,:26]) * np.sum(p3)\n",
    "emp3[:26,:26,:26] = p3[:26,:26,:26]\n",
    "emp3[emp3==0] = 10000\n",
    "sns.heatmap(emp3[0,])\n",
    "plt.show()"
   ]
  },
  {
   "cell_type": "code",
   "execution_count": 8,
   "metadata": {},
   "outputs": [
    {
     "name": "stdout",
     "output_type": "stream",
     "text": [
      "0\n"
     ]
    }
   ],
   "source": [
    "print(np.sum(emp3==0))\n",
    "emp3 = emp3 / np.sum(emp3)\n",
    "lp3 = np.log(emp3)\n",
    "np.save('../data/ngrams/lp3-r.npy', lp3)"
   ]
  },
  {
   "cell_type": "code",
   "execution_count": null,
   "metadata": {},
   "outputs": [],
   "source": []
  }
 ],
 "metadata": {
  "kernelspec": {
   "display_name": "Python 3",
   "language": "python",
   "name": "python3"
  },
  "language_info": {
   "codemirror_mode": {
    "name": "ipython",
    "version": 3
   },
   "file_extension": ".py",
   "mimetype": "text/x-python",
   "name": "python",
   "nbconvert_exporter": "python",
   "pygments_lexer": "ipython3",
   "version": "3.5.2"
  }
 },
 "nbformat": 4,
 "nbformat_minor": 2
}
