{
 "cells": [
  {
   "cell_type": "code",
   "execution_count": 1,
   "metadata": {},
   "outputs": [
    {
     "data": {
      "application/javascript": [
       "IPython.OutputArea.prototype._should_scroll = function(lines) {\n",
       "    return false;\n",
       "}"
      ],
      "text/plain": [
       "<IPython.core.display.Javascript object>"
      ]
     },
     "metadata": {},
     "output_type": "display_data"
    }
   ],
   "source": [
    "%%javascript\n",
    "IPython.OutputArea.prototype._should_scroll = function(lines) {\n",
    "    return false;\n",
    "}"
   ]
  },
  {
   "cell_type": "code",
   "execution_count": 2,
   "metadata": {
    "scrolled": true
   },
   "outputs": [],
   "source": [
    "%matplotlib inline\n",
    "%load_ext autoreload\n",
    "%autoreload 2\n",
    "import numpy as np\n",
    "from util import *\n",
    "\n",
    "pc = to_code(load_text('../data/plaintext'))\n",
    "lp = load_prob('../data/ngrams')\n",
    "wlp = load_word_prob('../data/word')"
   ]
  },
  {
   "cell_type": "code",
   "execution_count": 3,
   "metadata": {},
   "outputs": [
    {
     "name": "stderr",
     "output_type": "stream",
     "text": [
      "/usr/lib/python3.5/importlib/_bootstrap.py:222: RuntimeWarning: numpy.dtype size changed, may indicate binary incompatibility. Expected 96, got 88\n",
      "  return f(*args, **kwds)\n",
      "/usr/lib/python3.5/importlib/_bootstrap.py:222: RuntimeWarning: numpy.dtype size changed, may indicate binary incompatibility. Expected 96, got 88\n",
      "  return f(*args, **kwds)\n"
     ]
    },
    {
     "name": "stdout",
     "output_type": "stream",
     "text": [
      "it:0000, log_p:-6.697e+03, acpt_r:0.000e+00, acc:4.583e-01, macc:2.750e-01, p_fix:9.286e-01, b_macc:3.214e-01\n",
      "it:0200, log_p:-5.545e+03, acpt_r:8.750e-02, acc:5.975e-01, macc:4.000e-01, p_fix:1.786e-01, b_macc:4.643e-01\n",
      "it:0400, log_p:-5.146e+03, acpt_r:2.800e-02, acc:7.204e-01, macc:5.107e-01, p_fix:1.786e-01, b_macc:6.786e-01\n",
      "it:0600, log_p:-4.902e+03, acpt_r:2.350e-02, acc:8.085e-01, macc:6.357e-01, p_fix:2.143e-01, b_macc:7.143e-01\n",
      "it:0800, log_p:-4.647e+03, acpt_r:1.650e-02, acc:8.514e-01, macc:6.929e-01, p_fix:2.143e-01, b_macc:8.929e-01\n",
      "it:1000, log_p:-4.392e+03, acpt_r:1.800e-02, acc:9.164e-01, macc:8.036e-01, p_fix:4.643e-01, b_macc:1.000e+00\n",
      "it:1200, log_p:-4.323e+03, acpt_r:6.000e-03, acc:9.250e-01, macc:8.250e-01, p_fix:4.643e-01, b_macc:1.000e+00\n",
      "it:1400, log_p:-4.209e+03, acpt_r:4.500e-03, acc:9.578e-01, macc:8.714e-01, p_fix:6.786e-01, b_macc:1.000e+00\n",
      "it:1600, log_p:-4.162e+03, acpt_r:4.000e-03, acc:9.722e-01, macc:9.071e-01, p_fix:7.857e-01, b_macc:1.000e+00\n",
      "it:1800, log_p:-4.137e+03, acpt_r:1.500e-03, acc:9.856e-01, macc:9.250e-01, p_fix:8.571e-01, b_macc:1.000e+00\n",
      "it:2000, log_p:-4.131e+03, acpt_r:5.000e-04, acc:9.861e-01, macc:9.321e-01, p_fix:8.571e-01, b_macc:1.000e+00\n",
      "it:2200, log_p:-4.117e+03, acpt_r:1.000e-03, acc:9.901e-01, macc:9.429e-01, p_fix:8.929e-01, b_macc:1.000e+00\n",
      "it:2400, log_p:-4.109e+03, acpt_r:5.000e-04, acc:9.938e-01, macc:9.500e-01, p_fix:8.929e-01, b_macc:1.000e+00\n",
      "it:2600, log_p:-4.109e+03, acpt_r:0.000e+00, acc:9.938e-01, macc:9.500e-01, p_fix:8.929e-01, b_macc:1.000e+00\n",
      "it:2800, log_p:-4.099e+03, acpt_r:5.000e-04, acc:9.975e-01, macc:9.571e-01, p_fix:9.286e-01, b_macc:1.000e+00\n",
      "18.55763602256775 1.0\n"
     ]
    }
   ],
   "source": [
    "from solver import shuffle, encrypt\n",
    "from main import main\n",
    "import time\n",
    "import matplotlib.pyplot as plt\n",
    "import seaborn as sns\n",
    "\n",
    "num = 10\n",
    "order = 28\n",
    "maxiter = 3000\n",
    "verbose_interval = 200\n",
    "w = [1, 0.8, 0.3]\n",
    "threshold = 0.9\n",
    "use_mask = False\n",
    "fix_interval = 0\n",
    "\n",
    "testpc = shuffle(pc, 1000)\n",
    "testcc, f_true = encrypt(testpc, order)\n",
    "start_time = time.time()\n",
    "testdc, f_pred = main(testcc, lp, num, order, maxiter, verbose_interval, \n",
    "                 w, threshold, use_mask, fix_interval, testpc, f_true)\n",
    "print(time.time() - start_time, np.mean(f_true==f_pred))"
   ]
  },
  {
   "cell_type": "code",
   "execution_count": 3,
   "metadata": {},
   "outputs": [
    {
     "name": "stderr",
     "output_type": "stream",
     "text": [
      "/usr/lib/python3.5/importlib/_bootstrap.py:222: RuntimeWarning: numpy.dtype size changed, may indicate binary incompatibility. Expected 96, got 88\n",
      "  return f(*args, **kwds)\n",
      "/usr/lib/python3.5/importlib/_bootstrap.py:222: RuntimeWarning: numpy.dtype size changed, may indicate binary incompatibility. Expected 96, got 88\n",
      "  return f(*args, **kwds)\n"
     ]
    },
    {
     "name": "stdout",
     "output_type": "stream",
     "text": [
      "Progress: 100.00%\r"
     ]
    },
    {
     "data": {
      "image/png": "[encoded data removed]",
      "text/plain": [
       "<Figure size 432x288 with 2 Axes>"
      ]
     },
     "metadata": {},
     "output_type": "display_data"
    }
   ],
   "source": [
    "from solver import shuffle, encrypt\n",
    "from main import main\n",
    "import time\n",
    "import matplotlib.pyplot as plt\n",
    "import seaborn as sns\n",
    "\n",
    "num = 5\n",
    "order = 28\n",
    "maxiter = 3000\n",
    "verbose_interval = 0\n",
    "threshold = 0.6\n",
    "use_mask = False\n",
    "fix_interval = 80\n",
    "\n",
    "n_trial = 5\n",
    "xrange = np.arange(0.6, 1.6, 0.2)\n",
    "yrange = np.arange(0.1, 0.7, 0.1)\n",
    "timespent = np.zeros((xrange.shape[0], yrange.shape[0]))\n",
    "accuracy = np.zeros((xrange.shape[0], yrange.shape[0]))\n",
    "\n",
    "it = 0\n",
    "for i, w2 in enumerate(xrange):\n",
    "    for j, w3 in enumerate(yrange):\n",
    "        w = [1, w2, w3]\n",
    "        for n in range(n_trial):\n",
    "            testpc = shuffle(pc, 1000)\n",
    "            testcc, f_true = encrypt(testpc, order)\n",
    "            start_time = time.time()\n",
    "            testdc, f_pred = main(testcc, lp, num, order, maxiter, verbose_interval, \n",
    "                                 w, threshold, use_mask, fix_interval)\n",
    "            timespent[i][j] += (time.time() - start_time)/n_trial\n",
    "            accuracy[i][j] += np.mean(f_true==f_pred)/n_trial\n",
    "            it += 1\n",
    "            print('Progress: {:.2f}%'.format(it/xrange.shape[0]/yrange.shape[0]/n_trial*100), end='\\r')\n",
    "            \n",
    "sns.heatmap(accuracy)\n",
    "plt.show()"
   ]
  },
  {
   "cell_type": "code",
   "execution_count": null,
   "metadata": {},
   "outputs": [],
   "source": []
  }
 ],
 "metadata": {
  "kernelspec": {
   "display_name": "Python 3",
   "language": "python",
   "name": "python3"
  },
  "language_info": {
   "codemirror_mode": {
    "name": "ipython",
    "version": 3
   },
   "file_extension": ".py",
   "mimetype": "text/x-python",
   "name": "python",
   "nbconvert_exporter": "python",
   "pygments_lexer": "ipython3",
   "version": "3.5.2"
  }
 },
 "nbformat": 4,
 "nbformat_minor": 2
}
