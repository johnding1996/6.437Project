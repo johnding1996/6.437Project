{
 "cells": [
  {
   "cell_type": "code",
   "execution_count": 1,
   "metadata": {},
   "outputs": [
    {
     "data": {
      "application/javascript": [
       "IPython.OutputArea.prototype._should_scroll = function(lines) {\n",
       "    return false;\n",
       "}"
      ],
      "text/plain": [
       "<IPython.core.display.Javascript object>"
      ]
     },
     "metadata": {},
     "output_type": "display_data"
    }
   ],
   "source": [
    "%%javascript\n",
    "IPython.OutputArea.prototype._should_scroll = function(lines) {\n",
    "    return false;\n",
    "}"
   ]
  },
  {
   "cell_type": "code",
   "execution_count": 2,
   "metadata": {
    "scrolled": true
   },
   "outputs": [],
   "source": [
    "%matplotlib inline\n",
    "%load_ext autoreload\n",
    "%autoreload 2\n",
    "import numpy as np\n",
    "import matplotlib.pyplot as plt\n",
    "import seaborn as sns\n",
    "from util import *\n",
    "\n",
    "pc = to_code(load_text('../data/plaintext'))\n",
    "lp = load_prob('../data/ngrams')"
   ]
  },
  {
   "cell_type": "code",
   "execution_count": 3,
   "metadata": {},
   "outputs": [
    {
     "name": "stdout",
     "output_type": "stream",
     "text": [
      "4.89 ms ± 226 µs per loop (mean ± std. dev. of 7 runs, 100 loops each)\n",
      "58.5 ms ± 3.63 ms per loop (mean ± std. dev. of 7 runs, 10 loops each)\n",
      "13.1 µs ± 75.4 ns per loop (mean ± std. dev. of 7 runs, 100000 loops each)\n",
      "4.68 ms ± 10.2 µs per loop (mean ± std. dev. of 7 runs, 100 loops each)\n",
      "21.3 ms ± 56.2 µs per loop (mean ± std. dev. of 7 runs, 10 loops each)\n",
      "2 ms ± 7.42 µs per loop (mean ± std. dev. of 7 runs, 100 loops each)\n",
      "1.68 ms ± 21.9 µs per loop (mean ± std. dev. of 7 runs, 1000 loops each)\n"
     ]
    }
   ],
   "source": [
    "from solver import *\n",
    "\n",
    "num = 100\n",
    "order = 28\n",
    "maxiter = 3000\n",
    "interval = 200\n",
    "w = [1, 1, 0.2]\n",
    "testpc = shuffle(pc, 8192)\n",
    "testcc, f_true = encrypt(testpc, order)\n",
    "x = initialize(num, order)\n",
    "c = count(testcc, order)\n",
    "rlp = reshape_lp(lp, num)\n",
    "rs_cum = np.zeros(num)\n",
    "%timeit xp = change(x)\n",
    "xp = change(x)\n",
    "%timeit p_x = log_prob(x, rlp, c, w, num, order)\n",
    "p_x = log_prob(x, rlp, c, w, num, order)\n",
    "p_xp = log_prob(xp, rlp, c, w, num, order)\n",
    "p_delta = p_xp - p_x\n",
    "%timeit update(x, xp, p_delta)\n",
    "%timeit acc = accuracy(x, testcc, testpc)\n",
    "%timeit ktau = kendalltau(x, f_true)\n",
    "%timeit map_acc, error_map = mapping_accuracy(x, f_true)\n",
    "%timeit gm_v = grammar_validity(x, testcc)"
   ]
  },
  {
   "cell_type": "code",
   "execution_count": null,
   "metadata": {},
   "outputs": [],
   "source": []
  }
 ],
 "metadata": {
  "kernelspec": {
   "display_name": "Python 3",
   "language": "python",
   "name": "python3"
  },
  "language_info": {
   "codemirror_mode": {
    "name": "ipython",
    "version": 3
   },
   "file_extension": ".py",
   "mimetype": "text/x-python",
   "name": "python",
   "nbconvert_exporter": "python",
   "pygments_lexer": "ipython3",
   "version": "3.5.2"
  }
 },
 "nbformat": 4,
 "nbformat_minor": 2
}
