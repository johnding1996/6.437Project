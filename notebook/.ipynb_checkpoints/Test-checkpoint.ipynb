{
 "cells": [
  {
   "cell_type": "code",
   "execution_count": 25,
   "metadata": {},
   "outputs": [
    {
     "name": "stdout",
     "output_type": "stream",
     "text": [
      "-0.43915343915343913 0.41798941798941797\n"
     ]
    }
   ],
   "source": [
    "import numpy as np\n",
    "import scipy.stats as stats\n",
    "\n",
    "def roll(x, k):\n",
    "    idx = np.random.choice(x.shape[0], k, replace=False)\n",
    "    xp = x.copy()\n",
    "    xp[idx] = xp[np.roll(idx, 1)]\n",
    "    return xp\n",
    "\n",
    "x = np.arange(28)\n",
    "minimum = 100\n",
    "maximum = -100\n",
    "for k in range(1000):\n",
    "    y = stats.kendalltau(x, np.random.permutation(28))[0]\n",
    "    if y < minimum:\n",
    "        minimum = y\n",
    "    if y > maximum:\n",
    "        maximum = y\n",
    "print(minimum, maximum)"
   ]
  },
  {
   "cell_type": "code",
   "execution_count": null,
   "metadata": {},
   "outputs": [],
   "source": []
  }
 ],
 "metadata": {
  "kernelspec": {
   "display_name": "Python 3",
   "language": "python",
   "name": "python3"
  },
  "language_info": {
   "codemirror_mode": {
    "name": "ipython",
    "version": 3
   },
   "file_extension": ".py",
   "mimetype": "text/x-python",
   "name": "python",
   "nbconvert_exporter": "python",
   "pygments_lexer": "ipython3",
   "version": "3.5.2"
  }
 },
 "nbformat": 4,
 "nbformat_minor": 2
}
