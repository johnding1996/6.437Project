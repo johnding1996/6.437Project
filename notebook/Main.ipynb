{
 "cells": [
  {
   "cell_type": "code",
   "execution_count": 1,
   "metadata": {},
   "outputs": [
    {
     "data": {
      "application/javascript": [
       "IPython.OutputArea.prototype._should_scroll = function(lines) {\n",
       "    return false;\n",
       "}"
      ],
      "text/plain": [
       "<IPython.core.display.Javascript object>"
      ]
     },
     "metadata": {},
     "output_type": "display_data"
    }
   ],
   "source": [
    "%%javascript\n",
    "IPython.OutputArea.prototype._should_scroll = function(lines) {\n",
    "    return false;\n",
    "}"
   ]
  },
  {
   "cell_type": "code",
   "execution_count": 2,
   "metadata": {
    "scrolled": true
   },
   "outputs": [],
   "source": [
    "%matplotlib inline\n",
    "%load_ext autoreload\n",
    "%autoreload 2\n",
    "import numpy as np\n",
    "import matplotlib.pyplot as plt\n",
    "import seaborn as sns\n",
    "from util import *\n",
    "\n",
    "pc = to_code(load_text('../data/plaintext'))\n",
    "lp = load_prob('../data/ngrams')"
   ]
  },
  {
   "cell_type": "code",
   "execution_count": 3,
   "metadata": {},
   "outputs": [
    {
     "name": "stdout",
     "output_type": "stream",
     "text": [
      "it:0000, log_p:-2.765e+04, acpt_r:6.000e-03, acc:6.005e-02, macc:3.929e-02, p_fix:0.000e+00, mj_mcc:1.550e-02\n",
      "it:0100, log_p:-1.942e+04, acpt_r:2.430e-01, acc:1.751e-01, macc:1.143e-01, p_fix:0.000e+00, mj_mcc:0.000e+00\n",
      "it:0200, log_p:-1.783e+04, acpt_r:1.160e-01, acc:2.720e-01, macc:1.714e-01, p_fix:0.000e+00, mj_mcc:1.425e-01\n",
      "it:0300, log_p:-1.748e+04, acpt_r:5.300e-02, acc:2.829e-01, macc:1.964e-01, p_fix:0.000e+00, mj_mcc:1.435e-01\n",
      "it:0400, log_p:-1.704e+04, acpt_r:5.700e-02, acc:3.414e-01, macc:2.429e-01, p_fix:0.000e+00, mj_mcc:9.750e-02\n",
      "it:0500, log_p:-1.669e+04, acpt_r:3.400e-02, acc:3.668e-01, macc:2.857e-01, p_fix:0.000e+00, mj_mcc:8.100e-02\n",
      "it:0600, log_p:-1.646e+04, acpt_r:3.900e-02, acc:4.244e-01, macc:3.321e-01, p_fix:0.000e+00, mj_mcc:1.390e-01\n",
      "it:0700, log_p:-1.620e+04, acpt_r:3.500e-02, acc:4.644e-01, macc:3.857e-01, p_fix:0.000e+00, mj_mcc:6.350e-02\n",
      "it:0800, log_p:-1.594e+04, acpt_r:1.900e-02, acc:4.908e-01, macc:4.179e-01, p_fix:0.000e+00, mj_mcc:6.350e-02\n",
      "it:0900, log_p:-1.557e+04, acpt_r:3.700e-02, acc:5.641e-01, macc:4.857e-01, p_fix:0.000e+00, mj_mcc:5.335e-01\n",
      "it:1000, log_p:-1.507e+04, acpt_r:4.500e-02, acc:7.176e-01, macc:6.107e-01, p_fix:2.143e-01, mj_mcc:3.075e-01\n",
      "it:1100, log_p:-1.478e+04, acpt_r:3.800e-02, acc:7.582e-01, macc:7.179e-01, p_fix:3.214e-01, mj_mcc:1.000e+00\n",
      "it:1200, log_p:-1.460e+04, acpt_r:1.000e-02, acc:7.723e-01, macc:7.500e-01, p_fix:3.571e-01, mj_mcc:1.000e+00\n",
      "it:1300, log_p:-1.414e+04, acpt_r:6.000e-03, acc:8.502e-01, macc:8.179e-01, p_fix:5.000e-01, mj_mcc:1.000e+00\n",
      "it:1400, log_p:-1.373e+04, acpt_r:1.100e-02, acc:9.629e-01, macc:9.357e-01, p_fix:8.214e-01, mj_mcc:1.000e+00\n",
      "\n",
      "Encrypted:  hvetnhmtljctpectdjstzjjaidrthsthdmtjltspeyt fstgyizidrtjdthz \n",
      "Decrypted:  ade way for her not looking at any of them but smiling on al\n"
     ]
    }
   ],
   "source": [
    "from solver import *\n",
    "\n",
    "num = 10\n",
    "order = 28\n",
    "maxiter = 2000\n",
    "interval = 100\n",
    "w = [1, 1, 0.2]\n",
    "threshold = 0.8\n",
    "fix_interval = 80\n",
    "testpc = shuffle(pc, 2000)\n",
    "testcc, f_true = encrypt(testpc, order)\n",
    "x = initialize(num, order)\n",
    "c = count(testcc, order)\n",
    "rlp = reshape_lp(lp, num)\n",
    "rs_cum = np.zeros((num,1))\n",
    "xmj_cum = np.zeros((1,order))\n",
    "m, xmj = mask(x, threshold)\n",
    "it = 0\n",
    "for it in range(maxiter):\n",
    "    m, xmjp = mask(x, threshold)\n",
    "    m, xmj_cum = cumulate(xmj, xmjp, xmj_cum, m, fix_interval)\n",
    "    xmj = xmjp\n",
    "    if np.mean(m) == 0:\n",
    "        break\n",
    "    x, xp = change_with_mask(x, m, xmj)\n",
    "    p_x = log_prob(x, rlp, c, w)\n",
    "    p_xp = log_prob(xp, rlp, c, w)\n",
    "    p_delta = p_xp - p_x\n",
    "    x, rs = update(x, xp, p_delta)\n",
    "    rs_cum += rs\n",
    "    acc = accuracy(x, testcc, testpc)\n",
    "    map_acc = mapping_accuracy(x, f_true)\n",
    "    gm_v = grammar_validity(x, testcc)\n",
    "    mj_macc = accuracy(xmj, testcc, testpc)\n",
    "    if it % interval == 0:\n",
    "        print(\"it:{}, log_p:{:1.3e}, acpt_r:{:1.3e}, acc:{:1.3e}, macc:{:1.3e}, p_fix:{:1.3e}, mj_mcc:{:1.3e}\".format(\n",
    "              str(it).zfill(4), np.mean(p_x), np.mean(rs_cum)/interval, acc, map_acc, 1-np.mean(m), mj_macc))\n",
    "        rs_cum = np.zeros((num,1))\n",
    "\n",
    "testct = ''.join(to_text(testcc))\n",
    "testdt = ''.join(to_text(np.argsort(xmj[0,])[testcc]))\n",
    "print('\\nEncrypted: ', testct[:60], '\\nDecrypted: ', testdt[:60])"
   ]
  }
 ],
 "metadata": {
  "kernelspec": {
   "display_name": "Python 3",
   "language": "python",
   "name": "python3"
  },
  "language_info": {
   "codemirror_mode": {
    "name": "ipython",
    "version": 3
   },
   "file_extension": ".py",
   "mimetype": "text/x-python",
   "name": "python",
   "nbconvert_exporter": "python",
   "pygments_lexer": "ipython3",
   "version": "3.5.2"
  }
 },
 "nbformat": 4,
 "nbformat_minor": 2
}
