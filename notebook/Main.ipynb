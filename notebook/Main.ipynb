{
 "cells": [
  {
   "cell_type": "code",
   "execution_count": 1,
   "metadata": {},
   "outputs": [
    {
     "data": {
      "application/javascript": [
       "IPython.OutputArea.prototype._should_scroll = function(lines) {\n",
       "    return false;\n",
       "}"
      ],
      "text/plain": [
       "<IPython.core.display.Javascript object>"
      ]
     },
     "metadata": {},
     "output_type": "display_data"
    }
   ],
   "source": [
    "%%javascript\n",
    "IPython.OutputArea.prototype._should_scroll = function(lines) {\n",
    "    return false;\n",
    "}"
   ]
  },
  {
   "cell_type": "code",
   "execution_count": 2,
   "metadata": {
    "scrolled": true
   },
   "outputs": [],
   "source": [
    "%matplotlib inline\n",
    "%load_ext autoreload\n",
    "%autoreload 2\n",
    "import numpy as np\n",
    "import matplotlib.pyplot as plt\n",
    "import seaborn as sns\n",
    "from util import *\n",
    "\n",
    "pc = to_code(load_text('../data/plaintext'))\n",
    "lp = load_prob('../data/ngrams')"
   ]
  },
  {
   "cell_type": "code",
   "execution_count": 3,
   "metadata": {},
   "outputs": [
    {
     "name": "stdout",
     "output_type": "stream",
     "text": [
      "it:0, log_p:-1.2254e+05, acpt_r:3.0000e-03, acc:2.6868e-02, ktau:-4.1799e-02, macc:3.5714e-02, gmvd:0.0000e+00\n",
      "it:200, log_p:-7.3954e+04, acpt_r:1.9350e-01, acc:1.7502e-01, ktau:3.5979e-02, macc:1.5000e-01, gmvd:4.0000e-01\n",
      "it:400, log_p:-6.9407e+04, acpt_r:6.2500e-02, acc:2.9437e-01, ktau:9.8942e-02, macc:2.3929e-01, gmvd:5.0000e-01\n",
      "it:600, log_p:-6.6571e+04, acpt_r:3.7500e-02, acc:3.4966e-01, ktau:1.0053e-01, macc:2.7500e-01, gmvd:6.0000e-01\n",
      "it:800, log_p:-6.4804e+04, acpt_r:2.6000e-02, acc:4.7964e-01, ktau:2.9630e-01, macc:4.1071e-01, gmvd:8.0000e-01\n",
      "it:1000, log_p:-6.3284e+04, acpt_r:2.6000e-02, acc:5.8264e-01, ktau:4.0423e-01, macc:5.2500e-01, gmvd:1.0000e+00\n",
      "it:1200, log_p:-6.0616e+04, acpt_r:1.8000e-02, acc:7.3623e-01, ktau:5.1640e-01, macc:6.3929e-01, gmvd:1.0000e+00\n",
      "it:1400, log_p:-5.8718e+04, acpt_r:1.7000e-02, acc:8.2932e-01, ktau:6.8254e-01, macc:7.3571e-01, gmvd:9.0000e-01\n",
      "it:1600, log_p:-5.7438e+04, acpt_r:1.2500e-02, acc:8.4526e-01, ktau:7.4127e-01, macc:7.8571e-01, gmvd:9.0000e-01\n",
      "it:1800, log_p:-5.6563e+04, acpt_r:1.0500e-02, acc:9.0848e-01, ktau:8.0741e-01, macc:8.4286e-01, gmvd:1.0000e+00\n",
      "it:2000, log_p:-5.6112e+04, acpt_r:5.0000e-03, acc:9.3730e-01, ktau:8.7831e-01, macc:8.8929e-01, gmvd:1.0000e+00\n",
      "it:2200, log_p:-5.5588e+04, acpt_r:4.0000e-03, acc:9.4899e-01, ktau:8.8042e-01, macc:9.2143e-01, gmvd:1.0000e+00\n",
      "it:2400, log_p:-5.5181e+04, acpt_r:3.0000e-03, acc:9.5883e-01, ktau:9.0899e-01, macc:9.3929e-01, gmvd:1.0000e+00\n",
      "it:2600, log_p:-5.5119e+04, acpt_r:2.0000e-03, acc:9.6174e-01, ktau:9.4497e-01, macc:9.5357e-01, gmvd:1.0000e+00\n",
      "it:2800, log_p:-5.5119e+04, acpt_r:0.0000e+00, acc:9.6174e-01, ktau:9.4497e-01, macc:9.5357e-01, gmvd:1.0000e+00\n"
     ]
    }
   ],
   "source": [
    "from solver import *\n",
    "\n",
    "num = 10\n",
    "order = 28\n",
    "maxiter = 3000\n",
    "interval = 200\n",
    "w = [1, 1, 0.2]\n",
    "testpc = shuffle(pc, 8192)\n",
    "testcc, f_true = encrypt(testpc, order)\n",
    "x = initialize(num, order)\n",
    "c = count(testcc, order)\n",
    "rs_cum = np.zeros(num)\n",
    "for it in range(maxiter):\n",
    "    xp = change(x)\n",
    "    x_lp = log_prob(x, lp, c, w, num, order)\n",
    "    xp_lp = log_prob(xp, lp, c, w, num, order)\n",
    "    delta_lp = xp_lp - x_lp\n",
    "    rs = step(delta_lp)\n",
    "    rs_cum += rs\n",
    "    x = update(x, xp, rs)\n",
    "    acc = accuracy(x, testcc, testpc)\n",
    "    ktau = kendalltau(x, f_true)\n",
    "    map_acc, error_map = mapping_accuracy(x, f_true, order)\n",
    "    gm_v = grammar_validity(x, testcc)\n",
    "    if it % interval == 0:\n",
    "        print(\"it:{}, log_p:{:1.4e}, acpt_r:{:1.4e}, acc:{:1.4e}, ktau:{:1.4e}, macc:{:1.4e}, gmvd:{:1.4e}\".format(\n",
    "              it, np.mean(x_lp), np.mean(rs_cum)/interval, acc, ktau, map_acc, gm_v))\n",
    "        rs_cum = np.zeros(num)"
   ]
  },
  {
   "cell_type": "code",
   "execution_count": null,
   "metadata": {},
   "outputs": [],
   "source": []
  }
 ],
 "metadata": {
  "kernelspec": {
   "display_name": "Python 3",
   "language": "python",
   "name": "python3"
  },
  "language_info": {
   "codemirror_mode": {
    "name": "ipython",
    "version": 3
   },
   "file_extension": ".py",
   "mimetype": "text/x-python",
   "name": "python",
   "nbconvert_exporter": "python",
   "pygments_lexer": "ipython3",
   "version": "3.5.2"
  }
 },
 "nbformat": 4,
 "nbformat_minor": 2
}
