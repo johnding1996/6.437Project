{
 "cells": [
  {
   "cell_type": "code",
   "execution_count": 1,
   "metadata": {},
   "outputs": [
    {
     "name": "stdout",
     "output_type": "stream",
     "text": [
      "27321\n"
     ]
    }
   ],
   "source": [
    "import numpy as np\n",
    "\n",
    "def _read_csv(data_dir, file_name):\n",
    "    import csv\n",
    "    with open(data_dir + '/' + file_name + '.csv', 'r') as csvfile:\n",
    "        reader = csv.reader(csvfile, delimiter=',')\n",
    "        return list(reader)\n",
    "\n",
    "def _read_text(data_dir, file_name):\n",
    "    with open(data_dir + '/' + file_name + '.txt', 'r') as textfile:\n",
    "        return textfile.readlines()\n",
    "    \n",
    "def load(data_dir):\n",
    "    alphabet = _read_csv(data_dir, 'alphabet')[0]\n",
    "    P = np.array(_read_csv(data_dir, 'letter_probabilities')[0], dtype=np.float64)\n",
    "    M = np.array(_read_csv(data_dir, 'letter_transition_matrix'), dtype=np.float64)\n",
    "    cipher_function = _read_csv(data_dir, 'cipher_function')[0]\n",
    "    plaintext = _read_text(data_dir, 'plaintext')[0]\n",
    "    ciphertext = _read_text(data_dir, 'ciphertext')[0]\n",
    "    return alphabet, P, M, cipher_function, plaintext, ciphertext\n",
    "\n",
    "alphabet, P, M, cipher_function, plaintext, ciphertext = load('./data')\n",
    "\n",
    "logP = np.log(P)\n",
    "M[M==0] = 1\n",
    "logM = np.log(M)\n",
    "#logM[logM==0] = -1e10\n",
    "\n",
    "print(len(plaintext))"
   ]
  },
  {
   "cell_type": "code",
   "execution_count": 2,
   "metadata": {},
   "outputs": [],
   "source": [
    "dictionary = dict(zip(alphabet, range(len(alphabet))))\n",
    "\n",
    "def translate(text):\n",
    "    return np.array([dictionary[t] for t in text if t != '\\n'])\n",
    "\n",
    "plaincode = translate(plaintext)\n",
    "ciphercode = translate(ciphertext)\n",
    "f_true = translate(cipher_function)"
   ]
  },
  {
   "cell_type": "code",
   "execution_count": 27,
   "metadata": {},
   "outputs": [
    {
     "name": "stdout",
     "output_type": "stream",
     "text": [
      "iter:0, log_prob:-1.4070e+05, accept_rate:0.0000e+00, accuracy:6.5300e-02\n",
      "iter:100, log_prob:-1.0027e+05, accept_rate:2.1000e-01, accuracy:7.3206e-05\n",
      "iter:200, log_prob:-8.6672e+04, accept_rate:1.7000e-01, accuracy:2.7965e-02\n",
      "iter:300, log_prob:-8.4305e+04, accept_rate:7.0000e-02, accuracy:2.2881e-01\n",
      "iter:400, log_prob:-7.9698e+04, accept_rate:7.0000e-02, accuracy:2.8298e-01\n",
      "iter:500, log_prob:-7.3588e+04, accept_rate:7.0000e-02, accuracy:2.3807e-01\n",
      "iter:600, log_prob:-7.3074e+04, accept_rate:1.0000e-02, accuracy:2.3807e-01\n",
      "iter:700, log_prob:-7.1154e+04, accept_rate:3.0000e-02, accuracy:2.1878e-01\n",
      "iter:800, log_prob:-7.1154e+04, accept_rate:0.0000e+00, accuracy:2.1878e-01\n",
      "iter:900, log_prob:-7.1137e+04, accept_rate:1.0000e-02, accuracy:2.1878e-01\n",
      "iter:1000, log_prob:-7.0602e+04, accept_rate:3.0000e-02, accuracy:3.1380e-01\n",
      "iter:1100, log_prob:-7.0146e+04, accept_rate:0.0000e+00, accuracy:3.1380e-01\n",
      "iter:1200, log_prob:-7.0099e+04, accept_rate:1.0000e-02, accuracy:3.9824e-01\n",
      "iter:1300, log_prob:-7.0099e+04, accept_rate:0.0000e+00, accuracy:3.9824e-01\n",
      "iter:1400, log_prob:-6.9833e+04, accept_rate:1.0000e-02, accuracy:4.4510e-01\n",
      "iter:1500, log_prob:-6.9833e+04, accept_rate:0.0000e+00, accuracy:4.4510e-01\n",
      "iter:1600, log_prob:-6.9485e+04, accept_rate:2.0000e-02, accuracy:5.0871e-01\n",
      "iter:1700, log_prob:-6.7366e+04, accept_rate:2.0000e-02, accuracy:5.3532e-01\n",
      "iter:1800, log_prob:-6.6486e+04, accept_rate:2.0000e-02, accuracy:5.3280e-01\n",
      "iter:1900, log_prob:-6.6384e+04, accept_rate:1.0000e-02, accuracy:5.3536e-01\n",
      "iter:2000, log_prob:-6.6384e+04, accept_rate:0.0000e+00, accuracy:5.3536e-01\n",
      "iter:2100, log_prob:-6.6384e+04, accept_rate:0.0000e+00, accuracy:5.3536e-01\n",
      "iter:2200, log_prob:-6.6384e+04, accept_rate:0.0000e+00, accuracy:5.3536e-01\n",
      "iter:2300, log_prob:-6.6384e+04, accept_rate:0.0000e+00, accuracy:5.3536e-01\n",
      "iter:2400, log_prob:-6.6384e+04, accept_rate:0.0000e+00, accuracy:5.3536e-01\n",
      "iter:2500, log_prob:-6.6384e+04, accept_rate:0.0000e+00, accuracy:5.3536e-01\n",
      "iter:2600, log_prob:-6.6114e+04, accept_rate:1.0000e-02, accuracy:5.3536e-01\n",
      "iter:2700, log_prob:-6.6114e+04, accept_rate:0.0000e+00, accuracy:5.3536e-01\n",
      "iter:2800, log_prob:-6.6114e+04, accept_rate:0.0000e+00, accuracy:5.3536e-01\n",
      "iter:2900, log_prob:-6.6114e+04, accept_rate:0.0000e+00, accuracy:5.3536e-01\n",
      "iter:3000, log_prob:-6.6114e+04, accept_rate:0.0000e+00, accuracy:5.3536e-01\n",
      "iter:3100, log_prob:-6.6114e+04, accept_rate:0.0000e+00, accuracy:5.3536e-01\n",
      "iter:3200, log_prob:-6.6114e+04, accept_rate:0.0000e+00, accuracy:5.3536e-01\n",
      "iter:3300, log_prob:-6.6114e+04, accept_rate:0.0000e+00, accuracy:5.3536e-01\n",
      "iter:3400, log_prob:-6.6114e+04, accept_rate:0.0000e+00, accuracy:5.3536e-01\n",
      "iter:3500, log_prob:-6.6114e+04, accept_rate:0.0000e+00, accuracy:5.3536e-01\n",
      "iter:3600, log_prob:-6.6114e+04, accept_rate:0.0000e+00, accuracy:5.3536e-01\n",
      "iter:3700, log_prob:-6.6114e+04, accept_rate:0.0000e+00, accuracy:5.3536e-01\n",
      "iter:3800, log_prob:-6.6114e+04, accept_rate:0.0000e+00, accuracy:5.3536e-01\n",
      "iter:3900, log_prob:-6.6114e+04, accept_rate:0.0000e+00, accuracy:5.3536e-01\n",
      "iter:4000, log_prob:-6.6114e+04, accept_rate:0.0000e+00, accuracy:5.3536e-01\n",
      "iter:4100, log_prob:-6.6114e+04, accept_rate:0.0000e+00, accuracy:5.3536e-01\n",
      "iter:4200, log_prob:-6.6114e+04, accept_rate:0.0000e+00, accuracy:5.3536e-01\n",
      "iter:4300, log_prob:-6.6114e+04, accept_rate:0.0000e+00, accuracy:5.3536e-01\n",
      "iter:4400, log_prob:-6.6114e+04, accept_rate:0.0000e+00, accuracy:5.3536e-01\n",
      "iter:4500, log_prob:-6.6114e+04, accept_rate:0.0000e+00, accuracy:5.3536e-01\n",
      "iter:4600, log_prob:-6.6114e+04, accept_rate:0.0000e+00, accuracy:5.3536e-01\n",
      "iter:4700, log_prob:-6.6114e+04, accept_rate:0.0000e+00, accuracy:5.3536e-01\n",
      "iter:4800, log_prob:-6.6114e+04, accept_rate:0.0000e+00, accuracy:5.3536e-01\n",
      "iter:4900, log_prob:-6.6114e+04, accept_rate:0.0000e+00, accuracy:5.3536e-01\n",
      "\n"
     ]
    }
   ],
   "source": [
    "def initialize(num, order):\n",
    "    x = np.zeros((num, order), dtype=np.float64)\n",
    "    for i in range(num):\n",
    "        x[i,] = np.random.permutation(order)\n",
    "    return x\n",
    "\n",
    "def proposal_change(x):\n",
    "    def _roll(_x):\n",
    "        idx = np.random.choice(_x.shape[0], 2, replace=False)\n",
    "        _x[idx] = _x[np.roll(idx, 1)]\n",
    "        return _x\n",
    "    xp = np.apply_along_axis(_roll, 1, np.copy(x))\n",
    "    return xp\n",
    "\n",
    "def get_log_probs(x, logP, logM, ciphercode):\n",
    "    ps = np.zeros((x.shape[0], ciphercode.shape[0]))\n",
    "    xinv = np.argsort(x, axis=1)\n",
    "    ps[:,0] = logP[xinv[:,ciphercode[0]]]\n",
    "    ps[:,1:] = logM[xinv[:,ciphercode[1:]],xinv[:,ciphercode[:-1]]]\n",
    "    return np.sum(ps, axis=1)\n",
    "\n",
    "def random_step(logpr):\n",
    "    pr = np.exp(np.clip(logpr, -np.inf, 0))\n",
    "    return (np.random.rand(pr.shape[0]) < pr).astype(np.int)\n",
    "\n",
    "def update(x, xp, rs):\n",
    "    rs = rs.reshape((rs.shape[0],1))\n",
    "    return (rs*xp+(1-rs)*x)\n",
    "\n",
    "def get_acc(x, ciphercode, plaincode):\n",
    "    xinv = np.argsort(x, axis=1)\n",
    "    plaincode = np.repeat(plaincode.reshape((1,-1)), x.shape[0], axis=0)\n",
    "    return np.sum((xinv[:,ciphercode] == plaincode).astype(np.int))/x.shape[0]/ciphercode.shape[0]\n",
    "\n",
    "\n",
    "def main(num, order, logP, logM, ciphercode, plaincode, maxiter, T):\n",
    "    x = initialize(num, order)\n",
    "    rs_mean = 0\n",
    "    logp_list, accept_rate_list, acc_list = [], [], []\n",
    "    for i in range(maxiter):\n",
    "        xp = proposal_change(x)\n",
    "        logp = get_log_probs(x, logP, logM, ciphercode)\n",
    "        logp_list.append(np.mean(logp))\n",
    "        logpp = get_log_probs(xp, logP, logM, ciphercode)\n",
    "        logpr = logpp - logp\n",
    "        rs = random_step(logpr)\n",
    "        accept_rate_list.append(np.mean(rs))\n",
    "        rs_mean += np.mean(rs)/T\n",
    "        x = update(x, xp, rs)\n",
    "        acc = get_acc(x, ciphercode, plaincode)\n",
    "        acc_list.append(np.mean(acc))\n",
    "        if i % T == 0:\n",
    "            print(\"iter:{}, log_prob:{:1.4e}, accept_rate:{:1.4e}, accuracy:{:1.4e}\".format(i, np.mean(logp), rs_mean, acc))\n",
    "            rs_mean = 0\n",
    "    return logp_list, accept_rate_list, acc_list\n",
    "\n",
    "\n",
    "lengths = [len(plaincode)]\n",
    "logp_lists = []\n",
    "for length in lengths:\n",
    "    logp_list, accept_rate_list, acc_list = main(1, 28, logP, logM, ciphercode[:length], plaincode[:length], 5000, 100)\n",
    "    logp_lists.append(logp_list)\n",
    "    print('')"
   ]
  },
  {
   "cell_type": "code",
   "execution_count": 32,
   "metadata": {},
   "outputs": [
    {
     "data": {
      "image/png": "[encoded data removed]",
      "text/plain": [
       "<Figure size 720x432 with 1 Axes>"
      ]
     },
     "metadata": {},
     "output_type": "display_data"
    }
   ],
   "source": [
    "import matplotlib.pyplot as plt\n",
    "plt.figure(figsize=(10, 6))\n",
    "ksize = 100\n",
    "accept_rate_list = np.convolve(accept_rate_list, np.ones(ksize))/100\n",
    "start = 0\n",
    "end = 2900\n",
    "#for logp_list, length in zip(logp_lists, lengths):\n",
    "#    plt.plot(range(start, len(logp_list[start:end])+start), np.array(logp_list[start:end])/np.log(2)/length, '-', linewidth=2)\n",
    "plt.plot(range(ksize+start, len(accept_rate_list[start:end])+ksize+start), np.array(accept_rate_list[start:end])/np.log(2), '-', linewidth=2)\n",
    "plt.xlabel('Iteration Count', fontsize=14)\n",
    "plt.ylabel('Acceptance Rate', fontsize=14)\n",
    "#plt.legend(['text length = {}'.format(length) for length in lengths])\n",
    "plt.show()"
   ]
  },
  {
   "cell_type": "code",
   "execution_count": 19,
   "metadata": {},
   "outputs": [
    {
     "data": {
      "text/plain": [
       "-3.503601535034464"
      ]
     },
     "execution_count": 19,
     "metadata": {},
     "output_type": "execute_result"
    }
   ],
   "source": [
    "np.mean((np.array(logp_lists[0])/np.log(2)/lengths[0])[-1000:])"
   ]
  },
  {
   "cell_type": "code",
   "execution_count": null,
   "metadata": {},
   "outputs": [],
   "source": []
  }
 ],
 "metadata": {
  "kernelspec": {
   "display_name": "Python 3",
   "language": "python",
   "name": "python3"
  },
  "language_info": {
   "codemirror_mode": {
    "name": "ipython",
    "version": 3
   },
   "file_extension": ".py",
   "mimetype": "text/x-python",
   "name": "python",
   "nbconvert_exporter": "python",
   "pygments_lexer": "ipython3",
   "version": "3.5.2"
  }
 },
 "nbformat": 4,
 "nbformat_minor": 2
}
