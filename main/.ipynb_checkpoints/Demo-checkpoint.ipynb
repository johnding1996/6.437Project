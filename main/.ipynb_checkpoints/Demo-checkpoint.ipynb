{
 "cells": [
  {
   "cell_type": "code",
   "execution_count": 1,
   "metadata": {},
   "outputs": [
    {
     "data": {
      "application/javascript": [
       "IPython.OutputArea.prototype._should_scroll = function(lines) {\n",
       "    return false;\n",
       "}"
      ],
      "text/plain": [
       "<IPython.core.display.Javascript object>"
      ]
     },
     "metadata": {},
     "output_type": "display_data"
    }
   ],
   "source": [
    "%%javascript\n",
    "IPython.OutputArea.prototype._should_scroll = function(lines) {\n",
    "    return false;\n",
    "}"
   ]
  },
  {
   "cell_type": "code",
   "execution_count": 2,
   "metadata": {},
   "outputs": [
    {
     "name": "stderr",
     "output_type": "stream",
     "text": [
      "rm: cannot remove 'decipheredtext.txt': No such file or directory\n"
     ]
    }
   ],
   "source": [
    "%%bash\n",
    "cd /home/mcding/johnding1996/6.437Project/test/ciphers_and_messages/\n",
    "rm decipheredtext.txt"
   ]
  },
  {
   "cell_type": "code",
   "execution_count": 3,
   "metadata": {
    "scrolled": true
   },
   "outputs": [
    {
     "name": "stdout",
     "output_type": "stream",
     "text": [
      "105.357548952\n"
     ]
    }
   ],
   "source": [
    "from decode import decode\n",
    "from util import _read_text\n",
    "import time\n",
    "\n",
    "ciphertext = _read_text('../test/ciphers_and_messages', 'ciphertext')[0][:-1][:450]\n",
    "\n",
    "start_time = time.time()\n",
    "decode(ciphertext, '/home/mcding/johnding1996/6.437Project/test/ciphers_and_messages/decipheredtext.txt')\n",
    "print(time.time() - start_time)"
   ]
  },
  {
   "cell_type": "code",
   "execution_count": 4,
   "metadata": {},
   "outputs": [
    {
     "name": "stdout",
     "output_type": "stream",
     "text": [
      "in regard to every form of human activity it is necessary that the question should be asked from time to time what is its purpose and ideal in what way does it contribute to the beauty of human existence as respects those pursuits which contribute only remotely by providing the mechanism of life it is well to be reminded that not the mere fact of living is to be desired but the art of living in the contemplation of great things. still more in reg"
     ]
    }
   ],
   "source": [
    "%%bash\n",
    "cd /home/mcding/johnding1996/6.437Project/test/ciphers_and_messages/\n",
    "head decipheredtext.txt\n",
    "rm decipheredtext.txt"
   ]
  },
  {
   "cell_type": "code",
   "execution_count": null,
   "metadata": {},
   "outputs": [],
   "source": []
  }
 ],
 "metadata": {
  "kernelspec": {
   "display_name": "Python 2",
   "language": "python",
   "name": "python2"
  },
  "language_info": {
   "codemirror_mode": {
    "name": "ipython",
    "version": 2
   },
   "file_extension": ".py",
   "mimetype": "text/x-python",
   "name": "python",
   "nbconvert_exporter": "python",
   "pygments_lexer": "ipython2",
   "version": "2.7.12"
  }
 },
 "nbformat": 4,
 "nbformat_minor": 2
}
